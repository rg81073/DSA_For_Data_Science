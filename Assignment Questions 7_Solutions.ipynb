{
 "cells": [
  {
   "cell_type": "code",
   "execution_count": 1,
   "id": "72912212",
   "metadata": {},
   "outputs": [
    {
     "name": "stdout",
     "output_type": "stream",
     "text": [
      "Output: True\n"
     ]
    }
   ],
   "source": [
    "# Question 1\n",
    "# Given two strings s and t, *determine if they are isomorphic*.\n",
    "# Two strings s and t are isomorphic if the characters in s can be replaced to get t.\n",
    "# All occurrences of a character must be replaced with another character while preserving the order of characters. No two characters may map to the same character, but a character may map to itself\n",
    "\n",
    "def isIsomorphic(s, t):\n",
    "    s_map = {}\n",
    "    t_map = {}\n",
    "\n",
    "    for i in range(len(s)):\n",
    "        s_char = s[i]\n",
    "        t_char = t[i]\n",
    "\n",
    "        if s_char not in s_map and t_char not in t_map:\n",
    "            s_map[s_char] = t_char\n",
    "            t_map[t_char] = s_char\n",
    "        elif s_map.get(s_char) != t_char or t_map.get(t_char) != s_char:\n",
    "            return False\n",
    "\n",
    "    return True\n",
    "\n",
    "# Example usage\n",
    "s = \"egg\"\n",
    "t = \"add\"\n",
    "result = isIsomorphic(s, t)\n",
    "print(\"Output:\", result)\n"
   ]
  },
  {
   "cell_type": "code",
   "execution_count": 2,
   "id": "41022c27",
   "metadata": {},
   "outputs": [
    {
     "name": "stdout",
     "output_type": "stream",
     "text": [
      "Output: True\n"
     ]
    }
   ],
   "source": [
    "# Question 2\n",
    "# Given a string num which represents an integer, return true if num is a strobogrammatic number.\n",
    "# A strobogrammatic number is a number that looks the same when rotated 180 degrees (looked at upside down).\n",
    "\n",
    "def isStrobogrammatic(num):\n",
    "    strobogrammatic_map = {'0': '0', '1': '1', '6': '9', '8': '8', '9': '6'}\n",
    "\n",
    "    left = 0\n",
    "    right = len(num) - 1\n",
    "\n",
    "    while left <= right:\n",
    "        left_char = num[left]\n",
    "        right_char = num[right]\n",
    "\n",
    "        if left_char not in strobogrammatic_map or right_char not in strobogrammatic_map or strobogrammatic_map[left_char] != right_char:\n",
    "            return False\n",
    "\n",
    "        left += 1\n",
    "        right -= 1\n",
    "\n",
    "    return True\n",
    "\n",
    "# Example usage\n",
    "num = \"69\"\n",
    "result = isStrobogrammatic(num)\n",
    "print(\"Output:\", result)\n"
   ]
  },
  {
   "cell_type": "code",
   "execution_count": 3,
   "id": "8f0e2d3e",
   "metadata": {},
   "outputs": [
    {
     "name": "stdout",
     "output_type": "stream",
     "text": [
      "Output: 579\n"
     ]
    }
   ],
   "source": [
    "# Question 3\n",
    "# Given two non-negative integers, num1 and num2 represented as string, return the sum of num1 and num2 as a string.\n",
    "# You must solve the problem without using any built-in library for handling large integers (such as BigInteger). You must also not convert the inputs to integers directly.\n",
    "\n",
    "def addStrings(num1, num2):\n",
    "    p1 = len(num1) - 1\n",
    "    p2 = len(num2) - 1\n",
    "    carry = 0\n",
    "    result = \"\"\n",
    "\n",
    "    while p1 >= 0 or p2 >= 0 or carry:\n",
    "        digit_sum = carry + int(num1[p1] if p1 >= 0 else '0') + int(num2[p2] if p2 >= 0 else '0')\n",
    "        result += str(digit_sum % 10)\n",
    "        carry = digit_sum // 10\n",
    "        p1 -= 1\n",
    "        p2 -= 1\n",
    "\n",
    "    if carry:\n",
    "        result += str(carry)\n",
    "\n",
    "    return result[::-1]\n",
    "\n",
    "# Example usage\n",
    "num1 = \"123\"\n",
    "num2 = \"456\"\n",
    "result = addStrings(num1, num2)\n",
    "print(\"Output:\", result)\n"
   ]
  },
  {
   "cell_type": "code",
   "execution_count": 4,
   "id": "5aa4e6ac",
   "metadata": {},
   "outputs": [
    {
     "name": "stdout",
     "output_type": "stream",
     "text": [
      "Output: bacdfe\n"
     ]
    }
   ],
   "source": [
    "# Question 5\n",
    "# Given a string s and an integer k, reverse the first k characters for every 2k characters counting from the start of the string.\n",
    "# If there are fewer than k characters left, reverse all of them. If there are less than 2k but greater than or equal to k characters, then reverse the first k characters and leave the other as original.\n",
    "\n",
    "def reverseStr(s, k):\n",
    "    result = \"\"\n",
    "    n = len(s)\n",
    "    \n",
    "    for i in range(0, n, 2*k):\n",
    "        if i + k <= n:\n",
    "            result += s[i:i+k][::-1]\n",
    "        else:\n",
    "            result += s[i:][::-1]\n",
    "            \n",
    "        if i + 2*k <= n:\n",
    "            result += s[i+k:i+2*k]\n",
    "            \n",
    "    return result\n",
    "\n",
    "# Example usage\n",
    "s = \"abcdefg\"\n",
    "k = 2\n",
    "result = reverseStr(s, k)\n",
    "print(\"Output:\", result)\n"
   ]
  },
  {
   "cell_type": "code",
   "execution_count": 5,
   "id": "22c09b29",
   "metadata": {},
   "outputs": [
    {
     "name": "stdout",
     "output_type": "stream",
     "text": [
      "Output: True\n"
     ]
    }
   ],
   "source": [
    "# Question 6\n",
    "# Given two strings s and goal, return true if and only if s can become goal after some number of shifts on s.\n",
    "# A shift on s consists of moving the leftmost character of s to the rightmost position.\n",
    "\n",
    "\n",
    "def rotateString(s, goal):\n",
    "    if len(s) != len(goal):\n",
    "        return False\n",
    "        \n",
    "    s2 = s + s\n",
    "    if goal in s2:\n",
    "        return True\n",
    "    else:\n",
    "        return False\n",
    "\n",
    "# Example usage\n",
    "s = \"abcde\"\n",
    "goal = \"cdeab\"\n",
    "result = rotateString(s, goal)\n",
    "print(\"Output:\", result)\n"
   ]
  },
  {
   "cell_type": "code",
   "execution_count": 6,
   "id": "addbd94a",
   "metadata": {},
   "outputs": [
    {
     "name": "stdout",
     "output_type": "stream",
     "text": [
      "Output: True\n"
     ]
    }
   ],
   "source": [
    "# Question 7\n",
    "# Given two strings s and t, return true if they are equal when both are typed into empty text editors. '#' means a backspace character.\n",
    "# Note that after backspacing an empty text, the text will continue empty.\n",
    "\n",
    "def backspaceCompare(s, t):\n",
    "    def processString(string):\n",
    "        stack = []\n",
    "        for char in string:\n",
    "            if char != '#':\n",
    "                stack.append(char)\n",
    "            elif stack:\n",
    "                stack.pop()\n",
    "        return stack\n",
    "\n",
    "    processed_s = processString(s)\n",
    "    processed_t = processString(t)\n",
    "\n",
    "    return processed_s == processed_t\n",
    "\n",
    "# Example usage\n",
    "s = \"ab#c\"\n",
    "t = \"ad#c\"\n",
    "result = backspaceCompare(s, t)\n",
    "print(\"Output:\", result)\n"
   ]
  },
  {
   "cell_type": "markdown",
   "id": "b4856d15",
   "metadata": {},
   "source": [
    "Completed...!!"
   ]
  }
 ],
 "metadata": {
  "kernelspec": {
   "display_name": "Python 3 (ipykernel)",
   "language": "python",
   "name": "python3"
  },
  "language_info": {
   "codemirror_mode": {
    "name": "ipython",
    "version": 3
   },
   "file_extension": ".py",
   "mimetype": "text/x-python",
   "name": "python",
   "nbconvert_exporter": "python",
   "pygments_lexer": "ipython3",
   "version": "3.10.9"
  }
 },
 "nbformat": 4,
 "nbformat_minor": 5
}
