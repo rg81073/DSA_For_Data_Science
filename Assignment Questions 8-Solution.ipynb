{
 "cells": [
  {
   "cell_type": "code",
   "execution_count": 2,
   "id": "ce9f1c0c",
   "metadata": {},
   "outputs": [
    {
     "name": "stdout",
     "output_type": "stream",
     "text": [
      "231\n"
     ]
    }
   ],
   "source": [
    "# Question 1**\n",
    "\n",
    "# Given two strings s1 and s2, return *the lowest **ASCII** sum of deleted characters to make two strings equal*.\n",
    "\n",
    "\n",
    "def minimumDeleteSum(s1, s2):\n",
    "    m = len(s1)\n",
    "    n = len(s2)\n",
    "\n",
    "    dp = [[0] * (n + 1) for _ in range(m + 1)]\n",
    "\n",
    "    # Fill the first row and the first column\n",
    "    for i in range(1, m + 1):\n",
    "        dp[i][0] = dp[i-1][0] + ord(s1[i-1])\n",
    "    for j in range(1, n + 1):\n",
    "        dp[0][j] = dp[0][j-1] + ord(s2[j-1])\n",
    "\n",
    "    # Fill the remaining cells of dp\n",
    "    for i in range(1, m + 1):\n",
    "        for j in range(1, n + 1):\n",
    "            if s1[i-1] == s2[j-1]:\n",
    "                dp[i][j] = dp[i-1][j-1]\n",
    "            else:\n",
    "                dp[i][j] = min(dp[i-1][j] + ord(s1[i-1]), dp[i][j-1] + ord(s2[j-1]))\n",
    "\n",
    "    return dp[m][n]\n",
    "\n",
    "s1 = \"sea\"\n",
    "s2 = \"eat\"\n",
    "print(minimumDeleteSum(s1, s2))\n"
   ]
  },
  {
   "cell_type": "code",
   "execution_count": 3,
   "id": "864d18ef",
   "metadata": {},
   "outputs": [
    {
     "name": "stdout",
     "output_type": "stream",
     "text": [
      "True\n"
     ]
    }
   ],
   "source": [
    "# Question 2**\n",
    "\n",
    "# Given a string s containing only three types of characters: '(', ')' and '*', return true *if* s *is **valid***.\n",
    "\n",
    "# The following rules define a **valid** string:\n",
    "\n",
    "# - Any left parenthesis '(' must have a corresponding right parenthesis ')'.\n",
    "# - Any right parenthesis ')' must have a corresponding left parenthesis '('.\n",
    "# - Left parenthesis '(' must go before the corresponding right parenthesis ')'.\n",
    "# - '*' could be treated as a single right parenthesis ')' or a single left parenthesis '(' or an empty string \"\".\n",
    "\n",
    "def isValid(s):\n",
    "    stack = []\n",
    "\n",
    "    for char in s:\n",
    "        if char == '(' or char == '*':\n",
    "            stack.append(char)\n",
    "        elif char == ')':\n",
    "            if stack and stack[-1] == '(':\n",
    "                stack.pop()\n",
    "            elif stack and stack[-1] == '*':\n",
    "                stack.pop()\n",
    "            else:\n",
    "                return False\n",
    "\n",
    "    open_count = 0\n",
    "    star_count = 0\n",
    "\n",
    "    while stack:\n",
    "        if stack.pop() == '(':\n",
    "            open_count += 1\n",
    "        else:\n",
    "            star_count += 1\n",
    "\n",
    "    return open_count <= star_count\n",
    "\n",
    "s = \"()\"\n",
    "print(isValid(s))\n",
    "\n"
   ]
  },
  {
   "cell_type": "code",
   "execution_count": 4,
   "id": "b02fed75",
   "metadata": {},
   "outputs": [
    {
     "name": "stdout",
     "output_type": "stream",
     "text": [
      "2\n"
     ]
    }
   ],
   "source": [
    "# Question 3**\n",
    "\n",
    "# Given two strings word1 and word2, return *the minimum number of **steps** required to make* word1 *and* word2 *the same*.\n",
    "\n",
    "# In one **step**, you can delete exactly one character in either string.\n",
    "\n",
    "def minSteps(word1, word2):\n",
    "    m, n = len(word1), len(word2)\n",
    "    dp = [[0] * (n+1) for _ in range(m+1)]\n",
    "\n",
    "    for i in range(1, m+1):\n",
    "        for j in range(1, n+1):\n",
    "            if word1[i-1] == word2[j-1]:\n",
    "                dp[i][j] = dp[i-1][j-1] + 1\n",
    "            else:\n",
    "                dp[i][j] = max(dp[i-1][j], dp[i][j-1])\n",
    "\n",
    "    lcs = dp[m][n]\n",
    "    return m + n - 2 * lcs\n",
    "\n",
    "word1 = \"sea\"\n",
    "word2 = \"eat\"\n",
    "print(minSteps(word1, word2))\n"
   ]
  },
  {
   "cell_type": "code",
   "execution_count": 5,
   "id": "a45b15d0",
   "metadata": {},
   "outputs": [
    {
     "name": "stdout",
     "output_type": "stream",
     "text": [
      "[0, 6]\n"
     ]
    }
   ],
   "source": [
    "# Question 6**\n",
    "\n",
    "# Given two strings s and p, return *an array of all the start indices of* p*'s anagrams in* s. You may return the answer in **any order**.\n",
    "\n",
    "# An **Anagram** is a word or phrase formed by rearranging the letters of a different word or phrase, typically using all the original letters exactly once.\n",
    "\n",
    "from collections import Counter\n",
    "\n",
    "def findAnagrams(s, p):\n",
    "    len_s, len_p = len(s), len(p)\n",
    "    freq_p = Counter(p)\n",
    "    freq_s = Counter(s[:len_p])\n",
    "    result = []\n",
    "\n",
    "    left, right = 0, len_p\n",
    "\n",
    "    while right <= len_s:\n",
    "        if freq_p == freq_s:\n",
    "            result.append(left)\n",
    "\n",
    "        freq_s[s[left]] -= 1\n",
    "        if freq_s[s[left]] == 0:\n",
    "            del freq_s[s[left]]\n",
    "\n",
    "        if right < len_s:\n",
    "            freq_s[s[right]] += 1\n",
    "\n",
    "        left += 1\n",
    "        right += 1\n",
    "\n",
    "    return result\n",
    "\n",
    "s = \"cbaebabacd\"\n",
    "p = \"abc\"\n",
    "print(findAnagrams(s, p))\n"
   ]
  },
  {
   "cell_type": "code",
   "execution_count": 6,
   "id": "d8bece95",
   "metadata": {},
   "outputs": [
    {
     "name": "stdout",
     "output_type": "stream",
     "text": [
      "aaabcbc\n"
     ]
    }
   ],
   "source": [
    "# Question 7**\n",
    "\n",
    "# Given an encoded string, return its decoded string.\n",
    "\n",
    "# The encoding rule is: k[encoded_string], where the encoded_string inside the square brackets is being repeated exactly k times. Note that k is guaranteed to be a positive integer.\n",
    "\n",
    "# You may assume that the input string is always valid; there are no extra white spaces, square brackets are well-formed, etc. Furthermore, you may assume that the original data does not contain any digits and that digits are only for those repeat numbers, k. For example, there will not be input like 3a or 2[4].\n",
    "\n",
    "# The test cases are generated so that the length of the output will never exceed 105.\n",
    "\n",
    "def decodeString(s):\n",
    "    stack = []\n",
    "    current_string = \"\"\n",
    "    current_count = 0\n",
    "\n",
    "    for c in s:\n",
    "        if c.isdigit():\n",
    "            current_count = current_count * 10 + int(c)\n",
    "        elif c == '[':\n",
    "            stack.append((current_string, current_count))\n",
    "            current_string = \"\"\n",
    "            current_count = 0\n",
    "        elif c == ']':\n",
    "            prev_string, count = stack.pop()\n",
    "            current_string = prev_string + current_string * count\n",
    "        else:\n",
    "            current_string += c\n",
    "\n",
    "    return current_string\n",
    "\n",
    "s = \"3[a]2[bc]\"\n",
    "print(decodeString(s))\n"
   ]
  },
  {
   "cell_type": "code",
   "execution_count": 7,
   "id": "65603c54",
   "metadata": {},
   "outputs": [
    {
     "name": "stdout",
     "output_type": "stream",
     "text": [
      "True\n",
      "True\n"
     ]
    }
   ],
   "source": [
    "# Question 8**\n",
    "\n",
    "# Given two strings s and goal, return true *if you can swap two letters in* s *so the result is equal to* goal*, otherwise, return* false*.*\n",
    "\n",
    "# Swapping letters is defined as taking two indices i and j (0-indexed) such that i != j and swapping the characters at s[i] and s[j].\n",
    "\n",
    "\n",
    "def canBeEqual(s, goal):\n",
    "    if len(s) != len(goal):\n",
    "        return False\n",
    "\n",
    "    diff_count = 0\n",
    "    diff_indices = []\n",
    "\n",
    "    for i in range(len(s)):\n",
    "        if s[i] != goal[i]:\n",
    "            diff_count += 1\n",
    "            diff_indices.append(i)\n",
    "\n",
    "    if diff_count != 2:\n",
    "        return False\n",
    "\n",
    "    return s[diff_indices[0]] == goal[diff_indices[1]] and s[diff_indices[1]] == goal[diff_indices[0]]\n",
    "\n",
    "\n",
    "s = \"abcd\"\n",
    "goal = \"cbad\"\n",
    "print(canBeEqual(s, goal))  # Output: True\n",
    "\n",
    "s = \"abcd\"\n",
    "goal = \"acbd\"\n",
    "print(canBeEqual(s, goal))  # Output: False\n"
   ]
  },
  {
   "cell_type": "markdown",
   "id": "608ec75a",
   "metadata": {},
   "source": [
    "# Completed"
   ]
  }
 ],
 "metadata": {
  "kernelspec": {
   "display_name": "Python 3 (ipykernel)",
   "language": "python",
   "name": "python3"
  },
  "language_info": {
   "codemirror_mode": {
    "name": "ipython",
    "version": 3
   },
   "file_extension": ".py",
   "mimetype": "text/x-python",
   "name": "python",
   "nbconvert_exporter": "python",
   "pygments_lexer": "ipython3",
   "version": "3.10.9"
  }
 },
 "nbformat": 4,
 "nbformat_minor": 5
}
