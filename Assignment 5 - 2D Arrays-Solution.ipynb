{
 "cells": [
  {
   "cell_type": "code",
   "execution_count": 1,
   "id": "bb665b79",
   "metadata": {},
   "outputs": [
    {
     "name": "stdout",
     "output_type": "stream",
     "text": [
      "[0, 1, 9, 16, 100]\n"
     ]
    }
   ],
   "source": [
    "# Question 3\n",
    "\n",
    "# Given an integer array nums sorted in **non-decreasing** order, return *an array of **the squares of each number** sorted in non-decreasing order*.\n",
    "\n",
    "\n",
    "def sortedSquares(nums):\n",
    "    squares = [num ** 2 for num in nums]\n",
    "    squares.sort()\n",
    "    return squares\n",
    "\n",
    "nums = [-4, -1, 0, 3, 10]\n",
    "result = sortedSquares(nums)\n",
    "print(result)  # Output: [0, 1, 9, 16, 100]\n"
   ]
  },
  {
   "cell_type": "code",
   "execution_count": 2,
   "id": "ce912ad6",
   "metadata": {},
   "outputs": [
    {
     "name": "stdout",
     "output_type": "stream",
     "text": [
      "[[1, 3], [4, 6]]\n"
     ]
    }
   ],
   "source": [
    "# Question 4\n",
    "\n",
    "# Given two 0-indexed integer arrays nums1 and nums2, return a list answer of size* 2 where:\n",
    "\n",
    "# - answer[0] is a list of all distinct integers in* nums1 *which are not present in* nums2.\n",
    "# - answer[1] is a list of all distinct integers in* nums2 *which are not present in* nums1.\n",
    "\n",
    "def findDisjoint(nums1, nums2):\n",
    "    set1 = set(nums1)\n",
    "    set2 = set(nums2)\n",
    "\n",
    "    distinct_nums1 = list(set1 - set2)\n",
    "    distinct_nums2 = list(set2 - set1)\n",
    "\n",
    "    return [distinct_nums1, distinct_nums2]\n",
    "\n",
    "nums1 = [1, 2, 3]\n",
    "nums2 = [2, 4, 6]\n",
    "result = findDisjoint(nums1, nums2)\n",
    "print(result)  # Output: [[1, 3], [4, 6]]\n",
    "\n"
   ]
  },
  {
   "cell_type": "code",
   "execution_count": 3,
   "id": "5c40aded",
   "metadata": {},
   "outputs": [
    {
     "name": "stdout",
     "output_type": "stream",
     "text": [
      "0\n"
     ]
    }
   ],
   "source": [
    "# Question 5\n",
    "\n",
    "# Given two integer arrays arr1 and arr2, and the integer d, *return the distance value between the two arrays*.\n",
    "\n",
    "# The distance value is defined as the number of elements arr1[i] such that there is not any element arr2[j] where |arr1[i]-arr2[j]| <= d.\n",
    "\n",
    "\n",
    "def distanceValue(arr1, arr2, d):\n",
    "    distance = 0\n",
    "\n",
    "    for num1 in arr1:\n",
    "        found = False\n",
    "        for num2 in arr2:\n",
    "            if abs(num1 - num2) <= d:\n",
    "                found = True\n",
    "                break\n",
    "        if not found:\n",
    "            distance += 1\n",
    "\n",
    "    return distance\n",
    "\n",
    "arr1 = [4, 5, 8]\n",
    "arr2 = [10, 9, 1, 2, 3]\n",
    "d = 3\n",
    "result = distanceValue(arr1, arr2, d)\n",
    "print(result)  # Output: 2\n"
   ]
  },
  {
   "cell_type": "code",
   "execution_count": 4,
   "id": "e681f835",
   "metadata": {},
   "outputs": [
    {
     "name": "stdout",
     "output_type": "stream",
     "text": [
      "[2, 3]\n"
     ]
    }
   ],
   "source": [
    "# Question 6\n",
    "\n",
    "# Given an integer array nums of length n where all the integers of nums are in the range [1, n] and each integer appears **once** or **twice**, return *an array of all the integers that appears **twice***.\n",
    "\n",
    "# You must write an algorithm that runs in O(n) time and uses only constant extra space.\n",
    "\n",
    "def findDuplicates(nums):\n",
    "    duplicates = []\n",
    "\n",
    "    for num in nums:\n",
    "        index = abs(num) - 1\n",
    "        if nums[index] < 0:\n",
    "            duplicates.append(abs(num))\n",
    "        else:\n",
    "            nums[index] = -nums[index]\n",
    "\n",
    "    return duplicates\n",
    "\n",
    "nums = [4, 3, 2, 7, 8, 2, 3, 1]\n",
    "result = findDuplicates(nums)\n",
    "print(result)  # Output: [2, 3]\n"
   ]
  },
  {
   "cell_type": "code",
   "execution_count": 5,
   "id": "a6025c7e",
   "metadata": {},
   "outputs": [
    {
     "name": "stdout",
     "output_type": "stream",
     "text": [
      "0\n"
     ]
    }
   ],
   "source": [
    "# Question 7\n",
    "\n",
    "# Suppose an array of length n sorted in ascending order is rotated between 1 and n times. For example, the array nums = [0,1,2,4,5,6,7] might become:\n",
    "\n",
    "# - [4,5,6,7,0,1,2] if it was rotated 4 times.\n",
    "# - [0,1,2,4,5,6,7] if it was rotated 7 times.\n",
    "\n",
    "# Notice that rotating an array [a[0], a[1], a[2], ..., a[n-1]] 1 time results in the array [a[n-1], a[0], a[1], a[2], ..., a[n-2]].\n",
    "\n",
    "# Given the sorted rotated array nums of unique elements, return *the minimum element of this array*.\n",
    "\n",
    "# You must write an algorithm that runs in O(log n) time.\n",
    "\n",
    "def findMin(nums):\n",
    "    left = 0\n",
    "    right = len(nums) - 1\n",
    "\n",
    "    while left < right:\n",
    "        mid = left + (right - left) // 2\n",
    "\n",
    "        if nums[mid] > nums[right]:\n",
    "            left = mid + 1\n",
    "        else:\n",
    "            right = mid\n",
    "\n",
    "    return nums[left]\n",
    "\n",
    "nums = [4, 5, 6, 7, 0, 1, 2]\n",
    "result = findMin(nums)\n",
    "print(result)  # Output: 0\n"
   ]
  },
  {
   "cell_type": "code",
   "execution_count": 6,
   "id": "baec9243",
   "metadata": {},
   "outputs": [
    {
     "name": "stdout",
     "output_type": "stream",
     "text": [
      "[]\n"
     ]
    }
   ],
   "source": [
    "# Question 8\n",
    "\n",
    "# An integer array original is transformed into a doubled array changed by appending twice the value of every element in original, and then randomly **shuffling** the resulting array.\n",
    "\n",
    "# Given an array changed, return original if changed is a doubled array. If changed is not a doubled array, return an empty array. The elements in* original *may be returned in **any** order*.\n",
    "\n",
    "from collections import defaultdict\n",
    "\n",
    "def findOriginalArray(changed):\n",
    "    if len(changed) % 2 != 0:\n",
    "        return []\n",
    "\n",
    "    freq = defaultdict(int)\n",
    "    for num in changed:\n",
    "        if num % 2 == 0:\n",
    "            freq[num // 2] += 1\n",
    "        else:\n",
    "            return []\n",
    "\n",
    "    original = []\n",
    "    for num in changed:\n",
    "        if freq[num] > 0:\n",
    "            original.append(num)\n",
    "            freq[num] -= 1\n",
    "\n",
    "    if len(original) != len(changed) // 2:\n",
    "        return []\n",
    "\n",
    "    return original\n",
    "\n",
    "changed = [2, 4, 0, 0, 8, 12]\n",
    "original = findOriginalArray(changed)\n",
    "print(original)  # Output: [0, 2, 4]\n"
   ]
  },
  {
   "cell_type": "code",
   "execution_count": null,
   "id": "e7bee0f4",
   "metadata": {},
   "outputs": [],
   "source": []
  },
  {
   "cell_type": "code",
   "execution_count": null,
   "id": "87954467",
   "metadata": {},
   "outputs": [],
   "source": []
  },
  {
   "cell_type": "code",
   "execution_count": null,
   "id": "aa4ff990",
   "metadata": {},
   "outputs": [],
   "source": []
  },
  {
   "cell_type": "code",
   "execution_count": null,
   "id": "e1f22ae3",
   "metadata": {},
   "outputs": [],
   "source": []
  }
 ],
 "metadata": {
  "kernelspec": {
   "display_name": "Python 3 (ipykernel)",
   "language": "python",
   "name": "python3"
  },
  "language_info": {
   "codemirror_mode": {
    "name": "ipython",
    "version": 3
   },
   "file_extension": ".py",
   "mimetype": "text/x-python",
   "name": "python",
   "nbconvert_exporter": "python",
   "pygments_lexer": "ipython3",
   "version": "3.10.9"
  }
 },
 "nbformat": 4,
 "nbformat_minor": 5
}
