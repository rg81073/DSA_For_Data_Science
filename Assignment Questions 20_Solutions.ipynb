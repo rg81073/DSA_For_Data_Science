{
 "cells": [
  {
   "cell_type": "code",
   "execution_count": 1,
   "id": "7c1260fd",
   "metadata": {},
   "outputs": [
    {
     "name": "stdout",
     "output_type": "stream",
     "text": [
      "Maximum subtree sum: 28\n"
     ]
    }
   ],
   "source": [
    "# 💡 Question-1\n",
    "\n",
    "# Given a binary tree, your task is to find subtree with maximum sum in tree.\n",
    "\n",
    "# Examples:\n",
    "\n",
    "# Input1 :       \n",
    "\n",
    "#        1\n",
    "\n",
    "#      /   \\\n",
    "\n",
    "#    2      3\n",
    "\n",
    "#   / \\    / \\\n",
    "\n",
    "# 4   5  6   7\n",
    "\n",
    "class TreeNode:\n",
    "    def __init__(self, val=0, left=None, right=None):\n",
    "        self.val = val\n",
    "        self.left = left\n",
    "        self.right = right\n",
    "\n",
    "\n",
    "def findMaxSubtreeSum(root):\n",
    "    if root is None:\n",
    "        return 0\n",
    "\n",
    "    left_sum = findMaxSubtreeSum(root.left)\n",
    "    right_sum = findMaxSubtreeSum(root.right)\n",
    "    subtree_sum = left_sum + right_sum + root.val\n",
    "\n",
    "    global max_sum\n",
    "    max_sum = max(max_sum, subtree_sum)\n",
    "\n",
    "    return subtree_sum\n",
    "\n",
    "\n",
    "def findMaxSubtree(root):\n",
    "    global max_sum\n",
    "    max_sum = float('-inf')\n",
    "    findMaxSubtreeSum(root)\n",
    "    return max_sum\n",
    "\n",
    "\n",
    "# Example usage:\n",
    "root = TreeNode(1)\n",
    "root.left = TreeNode(2)\n",
    "root.right = TreeNode(3)\n",
    "root.left.left = TreeNode(4)\n",
    "root.left.right = TreeNode(5)\n",
    "root.right.left = TreeNode(6)\n",
    "root.right.right = TreeNode(7)\n",
    "\n",
    "max_subtree_sum = findMaxSubtree(root)\n",
    "print(\"Maximum subtree sum:\", max_subtree_sum)\n"
   ]
  },
  {
   "cell_type": "code",
   "execution_count": 2,
   "id": "ec9402d9",
   "metadata": {},
   "outputs": [
    {
     "name": "stdout",
     "output_type": "stream",
     "text": [
      "BST:\n",
      "5 3 10 4 6 7 8 12 1 "
     ]
    }
   ],
   "source": [
    "# Question-2\n",
    "\n",
    "# Construct the BST (Binary Search Tree) from its given level order traversal.\n",
    "\n",
    "from collections import deque\n",
    "\n",
    "class TreeNode:\n",
    "    def __init__(self, val=0, left=None, right=None):\n",
    "        self.val = val\n",
    "        self.left = left\n",
    "        self.right = right\n",
    "\n",
    "def constructBST(arr):\n",
    "    if not arr:\n",
    "        return None\n",
    "\n",
    "    root = TreeNode(arr[0])\n",
    "    queue = deque([root])\n",
    "    i = 1\n",
    "\n",
    "    while i < len(arr):\n",
    "        node = queue.popleft()\n",
    "\n",
    "        if i < len(arr) and arr[i] is not None:\n",
    "            left_child = TreeNode(arr[i])\n",
    "            node.left = left_child\n",
    "            queue.append(left_child)\n",
    "\n",
    "        i += 1\n",
    "\n",
    "        if i < len(arr) and arr[i] is not None:\n",
    "            right_child = TreeNode(arr[i])\n",
    "            node.right = right_child\n",
    "            queue.append(right_child)\n",
    "\n",
    "        i += 1\n",
    "\n",
    "    return root\n",
    "\n",
    "# Example usage:\n",
    "arr = [7, 4, 12, 3, 6, 8, 1, 5, 10]\n",
    "root = constructBST(arr)\n",
    "\n",
    "# Function to print the BST in in-order traversal\n",
    "def printBST(node):\n",
    "    if node is None:\n",
    "        return\n",
    "\n",
    "    printBST(node.left)\n",
    "    print(node.val, end=\" \")\n",
    "    printBST(node.right)\n",
    "\n",
    "print(\"BST:\")\n",
    "printBST(root)\n"
   ]
  },
  {
   "cell_type": "code",
   "execution_count": 4,
   "id": "e9389a56",
   "metadata": {},
   "outputs": [
    {
     "name": "stdout",
     "output_type": "stream",
     "text": [
      "False\n"
     ]
    },
    {
     "data": {
      "text/plain": [
       "True"
      ]
     },
     "execution_count": 4,
     "metadata": {},
     "output_type": "execute_result"
    }
   ],
   "source": [
    "# Question-3\n",
    "\n",
    "# Given an array of size n. The problem is to check whether the given array can represent the level order traversal of a Binary Search Tree or not.\n",
    "\n",
    "\n",
    "def isLevelOrderBST(arr):\n",
    "    if not arr:\n",
    "        return True\n",
    "\n",
    "    n = len(arr)\n",
    "    i = 1\n",
    "\n",
    "    while i < n:\n",
    "        j = i\n",
    "        while j < n and arr[j] < arr[i]:\n",
    "            j += 1\n",
    "\n",
    "        for k in range(j, n):\n",
    "            if arr[k] < arr[i]:\n",
    "                return False\n",
    "\n",
    "        left_subtree = isLevelOrderBST(arr[1:i])\n",
    "        right_subtree = isLevelOrderBST(arr[j:])\n",
    "        return left_subtree and right_subtree\n",
    "\n",
    "    return True\n",
    "\n",
    "# Example usage:\n",
    "arr = [7, 4, 12, 3, 6, 8, 1, 5, 10]\n",
    "result = isLevelOrderBST(arr)\n",
    "print(result)\n",
    "True\n"
   ]
  },
  {
   "cell_type": "markdown",
   "id": "731721b1",
   "metadata": {},
   "source": [
    "Completed..!!"
   ]
  }
 ],
 "metadata": {
  "kernelspec": {
   "display_name": "Python 3 (ipykernel)",
   "language": "python",
   "name": "python3"
  },
  "language_info": {
   "codemirror_mode": {
    "name": "ipython",
    "version": 3
   },
   "file_extension": ".py",
   "mimetype": "text/x-python",
   "name": "python",
   "nbconvert_exporter": "python",
   "pygments_lexer": "ipython3",
   "version": "3.10.9"
  }
 },
 "nbformat": 4,
 "nbformat_minor": 5
}
