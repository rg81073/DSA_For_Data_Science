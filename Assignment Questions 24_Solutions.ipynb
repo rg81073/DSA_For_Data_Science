{
 "cells": [
  {
   "cell_type": "code",
   "execution_count": 1,
   "id": "60d0d38f",
   "metadata": {},
   "outputs": [
    {
     "name": "stdout",
     "output_type": "stream",
     "text": [
      "Integer value: 1994\n"
     ]
    }
   ],
   "source": [
    "# 1. Roman to Integer\n",
    "\n",
    "# Roman numerals are represented by seven different symbols: `I`, `V`, `X`, `L`, `C`, `D` and `M`.\n",
    "\n",
    "def romanToInt(s):\n",
    "    roman_values = {\n",
    "        'I': 1,\n",
    "        'V': 5,\n",
    "        'X': 10,\n",
    "        'L': 50,\n",
    "        'C': 100,\n",
    "        'D': 500,\n",
    "        'M': 1000\n",
    "    }\n",
    "\n",
    "    total = 0\n",
    "    n = len(s)\n",
    "\n",
    "    for i in range(n):\n",
    "        # If the current symbol is less than the next symbol, subtract its value\n",
    "        if i < n - 1 and roman_values[s[i]] < roman_values[s[i + 1]]:\n",
    "            total -= roman_values[s[i]]\n",
    "        # Otherwise, add its value\n",
    "        else:\n",
    "            total += roman_values[s[i]]\n",
    "\n",
    "    return total\n",
    "\n",
    "# Example usage\n",
    "roman_numeral = \"MCMXCIV\"\n",
    "integer_value = romanToInt(roman_numeral)\n",
    "print(\"Integer value:\", integer_value)\n"
   ]
  },
  {
   "cell_type": "code",
   "execution_count": 2,
   "id": "b91cb889",
   "metadata": {},
   "outputs": [
    {
     "name": "stdout",
     "output_type": "stream",
     "text": [
      "Length of longest substring without repeating characters: 3\n"
     ]
    }
   ],
   "source": [
    "# 2. Longest Substring Without Repeating Characters\n",
    "\n",
    "# Given a string `s`, find the length of the **longest substring** without repeating characters.\n",
    "\n",
    "def lengthOfLongestSubstring(s):\n",
    "    n = len(s)\n",
    "    longest_length = 0\n",
    "    char_set = set()\n",
    "    left, right = 0, 0\n",
    "\n",
    "    while right < n:\n",
    "        if s[right] not in char_set:\n",
    "            char_set.add(s[right])\n",
    "            longest_length = max(longest_length, right - left + 1)\n",
    "            right += 1\n",
    "        else:\n",
    "            char_set.remove(s[left])\n",
    "            left += 1\n",
    "\n",
    "    return longest_length\n",
    "\n",
    "# Example usage\n",
    "string = \"abcabcbb\"\n",
    "length = lengthOfLongestSubstring(string)\n",
    "print(\"Length of longest substring without repeating characters:\", length)\n"
   ]
  },
  {
   "cell_type": "code",
   "execution_count": 3,
   "id": "a8d72785",
   "metadata": {},
   "outputs": [
    {
     "name": "stdout",
     "output_type": "stream",
     "text": [
      "Majority element: 2\n"
     ]
    }
   ],
   "source": [
    "#  3. Majority Element\n",
    "\n",
    "# Given an array `nums` of size `n`, return *the majority element*.\n",
    "\n",
    "# The majority element is the element that appears more than `⌊n / 2⌋` times. You may assume that the majority element always exists in the array.\n",
    "\n",
    "\n",
    "def majorityElement(nums):\n",
    "    count = 0\n",
    "    candidate = None\n",
    "\n",
    "    for num in nums:\n",
    "        if count == 0:\n",
    "            candidate = num\n",
    "        count += 1 if num == candidate else -1\n",
    "\n",
    "    return candidate\n",
    "\n",
    "# Example usage\n",
    "nums = [2, 2, 1, 1, 1, 2, 2]\n",
    "majority = majorityElement(nums)\n",
    "print(\"Majority element:\", majority)\n"
   ]
  },
  {
   "cell_type": "code",
   "execution_count": 4,
   "id": "c1ebf241",
   "metadata": {},
   "outputs": [
    {
     "name": "stdout",
     "output_type": "stream",
     "text": [
      "Grouped Anagrams: [['eat', 'tea', 'ate'], ['tan', 'nat'], ['bat']]\n"
     ]
    }
   ],
   "source": [
    "# 4. Group Anagram\n",
    "\n",
    "# Given an array of strings `strs`, group **the anagrams** together. You can return the answer in **any order**.\n",
    "\n",
    "# An **Anagram** is a word or phrase formed by rearranging the letters of a different word or phrase, typically using all the original letters exactly once\n",
    "\n",
    "def groupAnagrams(strs):\n",
    "    anagrams = {}\n",
    "\n",
    "    for word in strs:\n",
    "        sorted_word = ''.join(sorted(word))\n",
    "        if sorted_word in anagrams:\n",
    "            anagrams[sorted_word].append(word)\n",
    "        else:\n",
    "            anagrams[sorted_word] = [word]\n",
    "\n",
    "    return list(anagrams.values())\n",
    "\n",
    "# Example usage\n",
    "strs = [\"eat\", \"tea\", \"tan\", \"ate\", \"nat\", \"bat\"]\n",
    "grouped_anagrams = groupAnagrams(strs)\n",
    "print(\"Grouped Anagrams:\", grouped_anagrams)\n"
   ]
  },
  {
   "cell_type": "code",
   "execution_count": 5,
   "id": "66669784",
   "metadata": {},
   "outputs": [
    {
     "name": "stdout",
     "output_type": "stream",
     "text": [
      "The 10th ugly number is: 12\n"
     ]
    }
   ],
   "source": [
    "# 5. Ugly Numbers\n",
    "\n",
    "# An ugly number is a positive integer whose prime factors are limited to `2`, `3`, and `5`.\n",
    "\n",
    "# Given an integer `n`, return *the* `nth` ***ugly number***.\n",
    "\n",
    "def nthUglyNumber(n):\n",
    "    ugly_nums = [1]  # List to store the ugly numbers\n",
    "    i2 = i3 = i5 = 0  # Indices for 2, 3, and 5\n",
    "\n",
    "    for _ in range(1, n):\n",
    "        # Generate the next ugly number\n",
    "        next_num = min(ugly_nums[i2] * 2, ugly_nums[i3] * 3, ugly_nums[i5] * 5)\n",
    "        ugly_nums.append(next_num)\n",
    "\n",
    "        # Update the indices for 2, 3, and 5\n",
    "        if next_num == ugly_nums[i2] * 2:\n",
    "            i2 += 1\n",
    "        if next_num == ugly_nums[i3] * 3:\n",
    "            i3 += 1\n",
    "        if next_num == ugly_nums[i5] * 5:\n",
    "            i5 += 1\n",
    "\n",
    "    return ugly_nums[n - 1]\n",
    "\n",
    "# Example usage\n",
    "n = 10\n",
    "nth_ugly_number = nthUglyNumber(n)\n",
    "print(f\"The {n}th ugly number is:\", nth_ugly_number)\n"
   ]
  },
  {
   "cell_type": "code",
   "execution_count": 6,
   "id": "26d33c0f",
   "metadata": {},
   "outputs": [
    {
     "name": "stdout",
     "output_type": "stream",
     "text": [
      "Max sliding window: [3, 3, 5, 5, 6, 7]\n"
     ]
    }
   ],
   "source": [
    "#  7. Sliding Window Maximum\n",
    "\n",
    "# You are given an array of integers `nums`, there is a sliding window of size `k` which is moving from the very left of the array to the very right. You can only see the `k` numbers in the window. Each time the sliding window moves right by one position.\n",
    "\n",
    "# Return *the max sliding window*.\n",
    "\n",
    "from collections import deque\n",
    "\n",
    "def maxSlidingWindow(nums, k):\n",
    "    n = len(nums)\n",
    "    result = []  # List to store the maximum elements\n",
    "\n",
    "    # Deque to store the indices of potentially maximum elements\n",
    "    window = deque()\n",
    "\n",
    "    for i in range(n):\n",
    "        # Remove indices that are outside the current window\n",
    "        if window and window[0] <= i - k:\n",
    "            window.popleft()\n",
    "\n",
    "        # Remove indices of elements smaller than the current element\n",
    "        while window and nums[window[-1]] < nums[i]:\n",
    "            window.pop()\n",
    "\n",
    "        # Add the current element's index to the deque\n",
    "        window.append(i)\n",
    "\n",
    "        # Add the maximum element to the result when the window is fully formed\n",
    "        if i >= k - 1:\n",
    "            result.append(nums[window[0]])\n",
    "\n",
    "    return result\n",
    "\n",
    "# Example usage\n",
    "nums = [1, 3, -1, -3, 5, 3, 6, 7]\n",
    "k = 3\n",
    "max_window = maxSlidingWindow(nums, k)\n",
    "print(\"Max sliding window:\", max_window)\n"
   ]
  },
  {
   "cell_type": "code",
   "execution_count": 7,
   "id": "c25492e6",
   "metadata": {},
   "outputs": [
    {
     "name": "stdout",
     "output_type": "stream",
     "text": [
      "Closest elements: [1, 2, 3, 4]\n"
     ]
    }
   ],
   "source": [
    "#  8. Find K Closest Elements\n",
    "\n",
    "# Given a sorted integer array `arr`, two integers `k` and `x`, return the `k` closest integers to `x` in the array. The result should also be sorted in ascending order.\n",
    "\n",
    "# An integer `a` is closer to `x` than an integer `b` if:\n",
    "\n",
    "# - `|a - x| < |b - x|`, or\n",
    "# - `|a - x| == |b - x|` and `a < b`\n",
    "\n",
    "\n",
    "def findClosestElements(arr, k, x):\n",
    "    left = 0\n",
    "    right = len(arr) - 1\n",
    "\n",
    "    while right - left + 1 > k:\n",
    "        if abs(arr[left] - x) > abs(arr[right] - x):\n",
    "            left += 1\n",
    "        else:\n",
    "            right -= 1\n",
    "\n",
    "    return arr[left:right+1]\n",
    "\n",
    "# Example usage\n",
    "arr = [1, 2, 3, 4, 5]\n",
    "k = 4\n",
    "x = 3\n",
    "closest_elements = findClosestElements(arr, k, x)\n",
    "print(\"Closest elements:\", closest_elements)\n"
   ]
  },
  {
   "cell_type": "markdown",
   "id": "a95f6c07",
   "metadata": {},
   "source": [
    "Completed..!!"
   ]
  }
 ],
 "metadata": {
  "kernelspec": {
   "display_name": "Python 3 (ipykernel)",
   "language": "python",
   "name": "python3"
  },
  "language_info": {
   "codemirror_mode": {
    "name": "ipython",
    "version": 3
   },
   "file_extension": ".py",
   "mimetype": "text/x-python",
   "name": "python",
   "nbconvert_exporter": "python",
   "pygments_lexer": "ipython3",
   "version": "3.10.9"
  }
 },
 "nbformat": 4,
 "nbformat_minor": 5
}
