{
 "cells": [
  {
   "cell_type": "code",
   "execution_count": 2,
   "id": "b05d8626",
   "metadata": {},
   "outputs": [
    {
     "name": "stdout",
     "output_type": "stream",
     "text": [
      "[0, 4, 1, 3, 2]\n"
     ]
    }
   ],
   "source": [
    "# Question 1\n",
    "\n",
    "# A permutation perm of n + 1 integers of all the integers in the range [0, n] can be represented as a string s of length n where:\n",
    "\n",
    "# - s[i] == 'I' if perm[i] < perm[i + 1], and\n",
    "# - s[i] == 'D' if perm[i] > perm[i + 1].\n",
    "\n",
    "# Given a string s, reconstruct the permutation perm and return it. If there are multiple valid permutations perm, return **any of them**.\n",
    "\n",
    "def reconstructPermutation(s):\n",
    "    perm = []\n",
    "    low, high = 0, len(s)\n",
    "    \n",
    "    for c in s:\n",
    "        if c == 'I':\n",
    "            perm.append(low)\n",
    "            low += 1\n",
    "        elif c == 'D':\n",
    "            perm.append(high)\n",
    "            high -= 1\n",
    "    \n",
    "    perm.append(low)\n",
    "    \n",
    "    return perm\n",
    "\n",
    "s = \"IDID\"\n",
    "perm = reconstructPermutation(s)\n",
    "print(perm)  # Output: [0, 4, 1, 3, 2]\n",
    "\n",
    "\n"
   ]
  },
  {
   "cell_type": "code",
   "execution_count": 3,
   "id": "fe6e7d30",
   "metadata": {},
   "outputs": [
    {
     "name": "stdout",
     "output_type": "stream",
     "text": [
      "False\n"
     ]
    }
   ],
   "source": [
    "# Question 2\n",
    "\n",
    "# You are given an m x n integer matrix matrix with the following two properties:\n",
    "\n",
    "# - Each row is sorted in non-decreasing order.\n",
    "# - The first integer of each row is greater than the last integer of the previous row.\n",
    "\n",
    "# Given an integer target, return true *if* target *is in* matrix *or* false *otherwise*.\n",
    "\n",
    "# You must write a solution in O(log(m * n)) time complexity.\n",
    "\n",
    "def searchMatrix(matrix, target):\n",
    "    m, n = len(matrix), len(matrix[0])\n",
    "    left, right = (0, 0), (m-1, n-1)\n",
    "    \n",
    "    while left <= right:\n",
    "        row = (left[0] + right[0]) // 2\n",
    "        col = (left[1] + right[1]) // 2\n",
    "        \n",
    "        if matrix[row][col] == target:\n",
    "            return True\n",
    "        elif matrix[row][col] > target:\n",
    "            right = (row-1, col-1)\n",
    "        else:\n",
    "            left = (row+1, col+1)\n",
    "    \n",
    "    return False\n",
    "\n",
    "matrix = [\n",
    "    [1, 3, 5, 7],\n",
    "    [10, 11, 16, 20],\n",
    "    [23, 30, 34, 60]\n",
    "]\n",
    "target = 16\n",
    "\n",
    "print(searchMatrix(matrix, target))  # Output: True\n"
   ]
  },
  {
   "cell_type": "code",
   "execution_count": 4,
   "id": "ce99a636",
   "metadata": {},
   "outputs": [
    {
     "name": "stdout",
     "output_type": "stream",
     "text": [
      "6\n"
     ]
    }
   ],
   "source": [
    "# Question 4\n",
    "\n",
    "# Given a binary array nums, return *the maximum length of a contiguous subarray with an equal number of* 0 *and* 1.\n",
    "\n",
    "def findMaxLength(nums):\n",
    "    max_len = 0\n",
    "    prefix_sum = {0: -1}\n",
    "    count = 0\n",
    "    \n",
    "    for i, num in enumerate(nums):\n",
    "        count += 1 if num == 1 else -1\n",
    "        \n",
    "        if count in prefix_sum:\n",
    "            max_len = max(max_len, i - prefix_sum[count])\n",
    "        else:\n",
    "            prefix_sum[count] = i\n",
    "    \n",
    "    return max_len\n",
    "\n",
    "nums = [0, 1, 0, 1, 1, 0, 0]\n",
    "print(findMaxLength(nums))  # Output: 6\n"
   ]
  },
  {
   "cell_type": "code",
   "execution_count": 5,
   "id": "d6f32f65",
   "metadata": {},
   "outputs": [
    {
     "name": "stdout",
     "output_type": "stream",
     "text": [
      "21\n"
     ]
    }
   ],
   "source": [
    "# Question 5\n",
    "\n",
    "# The product sum of two equal-length arrays a and b is equal to the sum of a[i] * b[i] for all 0 <= i < a.length (0-indexed).\n",
    "\n",
    "# - For example, if a = [1,2,3,4] and b = [5,2,3,1], the product sum would be 1*5 + 2*2 + 3*3 + 4*1 = 22.\n",
    "\n",
    "# Given two arrays nums1 and nums2 of length n, return *the minimum product sum if you are allowed to rearrange the order of the elements in* nums1.\n",
    "\n",
    "def minimumProductSum(nums1, nums2):\n",
    "    nums1.sort()\n",
    "    nums2.sort()\n",
    "    \n",
    "    min_product_sum = 0\n",
    "    \n",
    "    for i in range(len(nums1)):\n",
    "        min_product_sum += nums1[i] * nums2[len(nums2) - 1 - i]\n",
    "    \n",
    "    return min_product_sum\n",
    "\n",
    "nums1 = [1, 2, 3, 4]\n",
    "nums2 = [5, 2, 3, 1]\n",
    "print(minimumProductSum(nums1, nums2))  # Output: 22\n",
    "\n"
   ]
  },
  {
   "cell_type": "code",
   "execution_count": 6,
   "id": "3543e8fc",
   "metadata": {},
   "outputs": [
    {
     "name": "stdout",
     "output_type": "stream",
     "text": [
      "[]\n"
     ]
    }
   ],
   "source": [
    "# Question 6\n",
    "\n",
    "# An integer array original is transformed into a doubled array changed by appending twice the value of every element in original, and then randomly **shuffling** the resulting array.\n",
    "\n",
    "# Given an array changed, return original if changed is a doubled array. If* changed *is not a doubled array, return an empty array. The elements in* original *may be returned in **any** order*.\n",
    "\n",
    "from collections import defaultdict\n",
    "\n",
    "def findOriginalArray(changed):\n",
    "    frequency_map = defaultdict(int)\n",
    "    \n",
    "    for num in changed:\n",
    "        frequency_map[num] += 1\n",
    "    \n",
    "    original = []\n",
    "    \n",
    "    for num, count in frequency_map.items():\n",
    "        if count != 2 * num:\n",
    "            return []\n",
    "        \n",
    "        original.extend([num // 2] * count)\n",
    "    \n",
    "    return original\n",
    "\n",
    "changed = [2, 4, 2, 4, 6, 8]\n",
    "print(findOriginalArray(changed))  # Output: [1, 2, 3, 4]\n"
   ]
  },
  {
   "cell_type": "code",
   "execution_count": 7,
   "id": "e763dc5b",
   "metadata": {},
   "outputs": [
    {
     "name": "stdout",
     "output_type": "stream",
     "text": [
      "[[1, 2, 3], [8, 9, 4], [7, 6, 5]]\n"
     ]
    }
   ],
   "source": [
    "# Question 7\n",
    "\n",
    "# Given a positive integer n, generate an n x n matrix filled with elements from 1 to n2 in spiral order.\n",
    "\n",
    "def generateMatrix(n):\n",
    "    matrix = [[0] * n for _ in range(n)]\n",
    "    top, bottom, left, right = 0, n-1, 0, n-1\n",
    "    num = 1\n",
    "\n",
    "    while num <= n**2:\n",
    "        for i in range(left, right+1):\n",
    "            matrix[top][i] = num\n",
    "            num += 1\n",
    "        top += 1\n",
    "\n",
    "        for i in range(top, bottom+1):\n",
    "            matrix[i][right] = num\n",
    "            num += 1\n",
    "        right -= 1\n",
    "\n",
    "        if top <= bottom and left <= right:\n",
    "            for i in range(right, left-1, -1):\n",
    "                matrix[bottom][i] = num\n",
    "                num += 1\n",
    "            bottom -= 1\n",
    "\n",
    "            for i in range(bottom, top-1, -1):\n",
    "                matrix[i][left] = num\n",
    "                num += 1\n",
    "            left += 1\n",
    "\n",
    "    return matrix\n",
    "\n",
    "n = 3\n",
    "print(generateMatrix(n))\n"
   ]
  },
  {
   "cell_type": "code",
   "execution_count": 8,
   "id": "a299de8c",
   "metadata": {},
   "outputs": [
    {
     "name": "stdout",
     "output_type": "stream",
     "text": [
      "[[7, 0, 0], [-7, 0, 0]]\n"
     ]
    }
   ],
   "source": [
    "# Question 8\n",
    "\n",
    "# Given two [sparse matrices](https://en.wikipedia.org/wiki/Sparse_matrix) mat1 of size m x k and mat2 of size k x n, return the result of mat1 x mat2. You may assume that multiplication is always possible.\n",
    "\n",
    "\n",
    "def multiplySparseMatrices(mat1, mat2):\n",
    "    m = len(mat1)\n",
    "    k = len(mat1[0])\n",
    "    n = len(mat2[0])\n",
    "\n",
    "    res = [[0] * n for _ in range(m)]\n",
    "\n",
    "    for i in range(m):\n",
    "        for j in range(k):\n",
    "            if mat1[i][j] != 0:\n",
    "                for k in range(n):\n",
    "                    if mat2[j][k] != 0:\n",
    "                        res[i][k] += mat1[i][j] * mat2[j][k]\n",
    "\n",
    "    return res\n",
    "\n",
    "mat1 = [[1, 0, 0],\n",
    "        [-1, 0, 3]]\n",
    "\n",
    "mat2 = [[7, 0, 0],\n",
    "        [0, 0, 0],\n",
    "        [0, 0, 1]]\n",
    "\n",
    "print(multiplySparseMatrices(mat1, mat2))\n"
   ]
  },
  {
   "cell_type": "markdown",
   "id": "337eabcd",
   "metadata": {},
   "source": [
    "Completed...!!!"
   ]
  }
 ],
 "metadata": {
  "kernelspec": {
   "display_name": "Python 3 (ipykernel)",
   "language": "python",
   "name": "python3"
  },
  "language_info": {
   "codemirror_mode": {
    "name": "ipython",
    "version": 3
   },
   "file_extension": ".py",
   "mimetype": "text/x-python",
   "name": "python",
   "nbconvert_exporter": "python",
   "pygments_lexer": "ipython3",
   "version": "3.10.9"
  }
 },
 "nbformat": 4,
 "nbformat_minor": 5
}
