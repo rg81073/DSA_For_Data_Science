{
 "cells": [
  {
   "cell_type": "code",
   "execution_count": 1,
   "id": "b96b2f84",
   "metadata": {},
   "outputs": [
    {
     "name": "stdout",
     "output_type": "stream",
     "text": [
      "Output: True\n"
     ]
    }
   ],
   "source": [
    "# Question 1\n",
    "# Given an integer `n`, return `true` if it is a power of two. Otherwise, return `false`.\n",
    "# An integer `n` is a power of two, if there exists an integer `x` such that `n == 2x`.\n",
    "\n",
    "def isPowerOfTwo(n):\n",
    "    if n <= 0:\n",
    "        return False\n",
    "    binary = bin(n)[2:]\n",
    "    return binary.count('1') == 1 and binary.count('0') == len(binary) - 1\n",
    "\n",
    "# Example usage\n",
    "n = 16\n",
    "result = isPowerOfTwo(n)\n",
    "print(\"Output:\", result)\n",
    "\n"
   ]
  },
  {
   "cell_type": "code",
   "execution_count": 2,
   "id": "9f368c8c",
   "metadata": {},
   "outputs": [
    {
     "name": "stdout",
     "output_type": "stream",
     "text": [
      "Sum: 55\n"
     ]
    }
   ],
   "source": [
    "# Question 2\n",
    "# Given a number n, find the sum of the first natural numbers.\n",
    "\n",
    "def sumOfNaturalNumbers(n):\n",
    "    return n * (n + 1) // 2\n",
    "\n",
    "# Example usage\n",
    "n = 10\n",
    "result = sumOfNaturalNumbers(n)\n",
    "print(\"Sum:\", result)\n",
    "\n",
    "\n",
    "\n"
   ]
  },
  {
   "cell_type": "code",
   "execution_count": 3,
   "id": "f1837320",
   "metadata": {},
   "outputs": [
    {
     "name": "stdout",
     "output_type": "stream",
     "text": [
      "Factorial: 120\n"
     ]
    }
   ],
   "source": [
    "# Question 3\n",
    "# Given a positive integer, N. Find the factorial of N. \n",
    "\n",
    "def factorial(N):\n",
    "    if N == 0:\n",
    "        return 1\n",
    "\n",
    "    factorial = 1\n",
    "    for i in range(1, N + 1):\n",
    "        factorial *= i\n",
    "\n",
    "    return factorial\n",
    "\n",
    "# Example usage\n",
    "N = 5\n",
    "result = factorial(N)\n",
    "print(\"Factorial:\", result)\n"
   ]
  },
  {
   "cell_type": "code",
   "execution_count": 4,
   "id": "d7192a86",
   "metadata": {},
   "outputs": [
    {
     "name": "stdout",
     "output_type": "stream",
     "text": [
      "Exponent: 32\n"
     ]
    }
   ],
   "source": [
    "# Question 4\n",
    "# Given a number N and a power P, the task is to find the exponent of this number raised to the given power, i.e. N^P.\n",
    "\n",
    "def exponent(N, P):\n",
    "    result = 1\n",
    "    for _ in range(P):\n",
    "        result *= N\n",
    "\n",
    "    return result\n",
    "\n",
    "# Example usage\n",
    "N = 2\n",
    "P = 5\n",
    "result = exponent(N, P)\n",
    "print(\"Exponent:\", result)\n"
   ]
  },
  {
   "cell_type": "code",
   "execution_count": 5,
   "id": "56bf4907",
   "metadata": {},
   "outputs": [
    {
     "name": "stdout",
     "output_type": "stream",
     "text": [
      "Maximum Element: 9\n"
     ]
    }
   ],
   "source": [
    "# Question 5\n",
    "# Given an array of integers arr, the task is to find maximum element of that array using recursion.\n",
    "\n",
    "def findMax(arr, n):\n",
    "    # Base case: If there is only one element, return it\n",
    "    if n == 1:\n",
    "        return arr[0]\n",
    "    \n",
    "    # Recursive case: Divide the array into two parts\n",
    "    mid = n // 2\n",
    "    arr1 = arr[:mid]\n",
    "    arr2 = arr[mid:]\n",
    "    \n",
    "    # Recursively find the maximum elements in arr1 and arr2\n",
    "    max1 = findMax(arr1, mid)\n",
    "    max2 = findMax(arr2, n - mid)\n",
    "    \n",
    "    # Return the maximum of the two maximum elements\n",
    "    return max(max1, max2)\n",
    "\n",
    "# Example usage\n",
    "arr = [3, 8, 2, 5, 1, 9, 4]\n",
    "max_element = findMax(arr, len(arr))\n",
    "print(\"Maximum Element:\", max_element)\n"
   ]
  },
  {
   "cell_type": "code",
   "execution_count": 6,
   "id": "630efc44",
   "metadata": {},
   "outputs": [
    {
     "name": "stdout",
     "output_type": "stream",
     "text": [
      "Nth Term: 14\n"
     ]
    }
   ],
   "source": [
    "# Question 6\n",
    "# Given first term (a), common difference (d) and a integer N of the Arithmetic Progression series, the task is to find Nth term of the series.\n",
    "\n",
    "def findNthTerm(a, d, N):\n",
    "    nthTerm = a + (N - 1) * d\n",
    "    return nthTerm\n",
    "\n",
    "# Example usage\n",
    "a = 2\n",
    "d = 3\n",
    "N = 5\n",
    "nthTerm = findNthTerm(a, d, N)\n",
    "print(\"Nth Term:\", nthTerm)\n"
   ]
  },
  {
   "cell_type": "code",
   "execution_count": 7,
   "id": "296dac74",
   "metadata": {},
   "outputs": [
    {
     "name": "stdout",
     "output_type": "stream",
     "text": [
      "Permutations of ABC\n",
      "ABC\n",
      "ACB\n",
      "BAC\n",
      "BCA\n",
      "CBA\n",
      "CAB\n"
     ]
    }
   ],
   "source": [
    "# Question 7\n",
    "# Given a string S, the task is to write a program to print all permutations of a given string.\n",
    "\n",
    "def permute(s, left, right):\n",
    "    if left == right:\n",
    "        print(\"\".join(s))\n",
    "    else:\n",
    "        for i in range(left, right + 1):\n",
    "            s[left], s[i] = s[i], s[left]  # Swap characters\n",
    "            permute(s, left + 1, right)  # Recursive call\n",
    "            s[left], s[i] = s[i], s[left]  # Backtrack, undo the swap\n",
    "\n",
    "def printPermutations(string):\n",
    "    n = len(string)\n",
    "    s = list(string)  # Convert string to a list of characters\n",
    "    permute(s, 0, n - 1)\n",
    "\n",
    "# Example usage\n",
    "string = \"ABC\"\n",
    "print(\"Permutations of\", string)\n",
    "printPermutations(string)\n"
   ]
  },
  {
   "cell_type": "code",
   "execution_count": 8,
   "id": "a8dc5180",
   "metadata": {},
   "outputs": [
    {
     "name": "stdout",
     "output_type": "stream",
     "text": [
      "Product of array elements: 120\n"
     ]
    }
   ],
   "source": [
    "# Question 8\n",
    "# Given an array, find a product of all array elements.\n",
    "\n",
    "def arrayProduct(arr):\n",
    "    product = 1\n",
    "    for num in arr:\n",
    "        product *= num\n",
    "    return product\n",
    "\n",
    "# Example usage\n",
    "arr = [1, 2, 3, 4, 5]\n",
    "print(\"Product of array elements:\", arrayProduct(arr))\n",
    "\n",
    "\n"
   ]
  },
  {
   "cell_type": "markdown",
   "id": "255f6034",
   "metadata": {},
   "source": [
    "Completed...!!"
   ]
  }
 ],
 "metadata": {
  "kernelspec": {
   "display_name": "Python 3 (ipykernel)",
   "language": "python",
   "name": "python3"
  },
  "language_info": {
   "codemirror_mode": {
    "name": "ipython",
    "version": 3
   },
   "file_extension": ".py",
   "mimetype": "text/x-python",
   "name": "python",
   "nbconvert_exporter": "python",
   "pygments_lexer": "ipython3",
   "version": "3.10.9"
  }
 },
 "nbformat": 4,
 "nbformat_minor": 5
}
