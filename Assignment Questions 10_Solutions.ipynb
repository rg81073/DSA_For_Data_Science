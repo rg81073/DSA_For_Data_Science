{
 "cells": [
  {
   "cell_type": "code",
   "execution_count": 1,
   "id": "1ca6a5c6",
   "metadata": {},
   "outputs": [
    {
     "name": "stdout",
     "output_type": "stream",
     "text": [
      "True\n",
      "False\n"
     ]
    }
   ],
   "source": [
    "# Question 1:\n",
    "# Given an integer `n`, return `true` if it is a power of three. Otherwise, return `false`.\n",
    "# An integer `n` is a power of three, if there exists an integer `x` such that `n == 3x`.\n",
    "\n",
    "import math\n",
    "\n",
    "def isPowerOfThree(n):\n",
    "    if n <= 0:\n",
    "        return False\n",
    "    x = math.log10(n) / math.log10(3)\n",
    "    return x.is_integer()\n",
    "\n",
    "# Example usage\n",
    "print(isPowerOfThree(9))  # Output: True\n",
    "print(isPowerOfThree(12))  # Output: False\n"
   ]
  },
  {
   "cell_type": "code",
   "execution_count": 2,
   "id": "f5f5660a",
   "metadata": {},
   "outputs": [
    {
     "name": "stdout",
     "output_type": "stream",
     "text": [
      "6\n",
      "4\n"
     ]
    }
   ],
   "source": [
    "# # Question 2:\n",
    "# You have a list `arr` of all integers in the range `[1, n]` sorted in a strictly increasing order. Apply the following algorithm on `arr`:\n",
    "\n",
    "# - Starting from left to right, remove the first number and every other number afterward until you reach the end of the list.\n",
    "# - Repeat the previous step again, but this time from right to left, remove the rightmost number and every other number from the remaining numbers.\n",
    "# - Keep repeating the steps again, alternating left to right and right to left, until a single number remains.\n",
    "\n",
    "# Given the integer `n`, return the last number that remains in `arr`.\n",
    "\n",
    "def lastRemaining(n):\n",
    "    left_to_right = True\n",
    "    remaining = n\n",
    "    step = 1\n",
    "    start = 1\n",
    "\n",
    "    while remaining > 1:\n",
    "        if left_to_right or remaining % 2 == 1:\n",
    "            start += step\n",
    "        \n",
    "        remaining //= 2\n",
    "        step *= 2\n",
    "        left_to_right = not left_to_right\n",
    "    \n",
    "    return start\n",
    "\n",
    "# Example usage\n",
    "print(lastRemaining(9))  # Output: 6\n",
    "print(lastRemaining(7))  # Output: 4\n"
   ]
  },
  {
   "cell_type": "code",
   "execution_count": 3,
   "id": "96a859b8",
   "metadata": {},
   "outputs": [
    {
     "name": "stdout",
     "output_type": "stream",
     "text": [
      "abc\n",
      "ab\n",
      "ac\n",
      "a\n",
      "bc\n",
      "b\n",
      "c\n",
      "\n"
     ]
    }
   ],
   "source": [
    "# Question 3\n",
    "# Given a set represented as a string, write a recursive code to print all subsets of it. The subsets can be printed in any order.\n",
    "\n",
    "def printSubsets(s, curr=\"\", index=0):\n",
    "    # Base case: When we reach the end of the string\n",
    "    if index == len(s):\n",
    "        print(curr)\n",
    "        return\n",
    "    \n",
    "    # Recursive case 1: Include the current character\n",
    "    printSubsets(s, curr + s[index], index + 1)\n",
    "    \n",
    "    # Recursive case 2: Exclude the current character\n",
    "    printSubsets(s, curr, index + 1)\n",
    "\n",
    "# Example usage\n",
    "printSubsets(\"abc\")\n"
   ]
  },
  {
   "cell_type": "code",
   "execution_count": 4,
   "id": "4edc1f35",
   "metadata": {},
   "outputs": [
    {
     "name": "stdout",
     "output_type": "stream",
     "text": [
      "13\n"
     ]
    }
   ],
   "source": [
    "# Question 4\n",
    "# Given a string calculate length of the string using recursion.\n",
    "\n",
    "def calculateLength(s):\n",
    "    # Base case: When the string is empty\n",
    "    if s == \"\":\n",
    "        return 0\n",
    "    \n",
    "    # Recursive case: Add 1 to the length and move to the next character\n",
    "    return 1 + calculateLength(s[1:])\n",
    "\n",
    "# Example usage\n",
    "length = calculateLength(\"Hello, World!\")\n",
    "print(length)\n"
   ]
  },
  {
   "cell_type": "code",
   "execution_count": 5,
   "id": "ab800d1c",
   "metadata": {},
   "outputs": [
    {
     "name": "stdout",
     "output_type": "stream",
     "text": [
      "0\n"
     ]
    }
   ],
   "source": [
    "# Question 5\n",
    "# We are given a string S, we need to find count of all contiguous substrings starting and ending with same character.\n",
    "\n",
    "def countSubstrings(s):\n",
    "    count = 0\n",
    "\n",
    "    # Base case: When the string is empty or contains only one character\n",
    "    if len(s) < 2:\n",
    "        return count\n",
    "\n",
    "    # Check if the first and last characters are the same\n",
    "    if s[0] == s[-1]:\n",
    "        count += 1\n",
    "\n",
    "    # Recursively count substrings in the substring excluding the first and last characters\n",
    "    count += countSubstrings(s[1:-1])\n",
    "\n",
    "    return count\n",
    "\n",
    "# Example usage\n",
    "count = countSubstrings(\"abcab\")\n",
    "print(count)\n"
   ]
  },
  {
   "cell_type": "code",
   "execution_count": 6,
   "id": "1e6ff426",
   "metadata": {},
   "outputs": [
    {
     "name": "stdout",
     "output_type": "stream",
     "text": [
      "Move disc 1 from rod A to rod C\n",
      "Move disc 2 from rod A to rod B\n",
      "Move disc 1 from rod C to rod B\n",
      "Move disc 3 from rod A to rod C\n",
      "Move disc 1 from rod B to rod A\n",
      "Move disc 2 from rod B to rod C\n",
      "Move disc 1 from rod A to rod C\n",
      "Total moves: 7\n"
     ]
    }
   ],
   "source": [
    "# Question 6\n",
    "\n",
    "# The [tower of Hanoi](https://en.wikipedia.org/wiki/Tower_of_Hanoi) is a famous puzzle where we have three rods and N disks. The objective of the puzzle is to move the entire stack to another rod. You are given the number of discs **N**. Initially, these discs are in the rod 1. You need to print all the steps of discs movement so that all the discs reach the 3rd rod. Also, you need to find the total moves.Note: The discs are arranged such that the top disc is numbered 1 and the bottom-most disc is numbered N. Also, all the discs have **different sizes and a bigger disc cannotbe put on the top of a smaller disc. Refer the provided link to get a better clarity about the puzzle.\n",
    "    \n",
    "def towerOfHanoi(n, source, destination, auxiliary):\n",
    "    if n == 1:\n",
    "        print(\"Move disc 1 from rod\", source, \"to rod\", destination)\n",
    "        return 1\n",
    "\n",
    "    moves = 0\n",
    "\n",
    "    # Move n-1 discs from source to auxiliary rod\n",
    "    moves += towerOfHanoi(n-1, source, auxiliary, destination)\n",
    "\n",
    "    # Move the nth disc from source to destination rod\n",
    "    print(\"Move disc\", n, \"from rod\", source, \"to rod\", destination)\n",
    "    moves += 1\n",
    "\n",
    "    # Move the n-1 discs from auxiliary rod to destination rod\n",
    "    moves += towerOfHanoi(n-1, auxiliary, destination, source)\n",
    "\n",
    "    return moves\n",
    "\n",
    "# Example usage\n",
    "n = 3  # Number of discs\n",
    "total_moves = towerOfHanoi(n, 'A', 'C', 'B')\n",
    "print(\"Total moves:\", total_moves)\n",
    "    \n"
   ]
  },
  {
   "cell_type": "code",
   "execution_count": 7,
   "id": "7a31188f",
   "metadata": {},
   "outputs": [
    {
     "name": "stdout",
     "output_type": "stream",
     "text": [
      "abc\n",
      "acb\n",
      "bac\n",
      "bca\n",
      "cba\n",
      "cab\n"
     ]
    }
   ],
   "source": [
    "# Question 7\n",
    "\n",
    "# Given a string str, the task is to print all the permutations of str. A permutation is an arrangement of all or part of a set of objects, with regard to the order of the arrangement. For instance, the words ‘bat’ and ‘tab’ represents two distinct permutation (or arrangements) of a similar three letter word.\n",
    "\n",
    "def permute(s, left, right):\n",
    "    if left == right:\n",
    "        print(\"\".join(s))\n",
    "    else:\n",
    "        for i in range(left, right + 1):\n",
    "            s[left], s[i] = s[i], s[left]  # Swap characters\n",
    "            permute(s, left + 1, right)  # Recursive call\n",
    "            s[left], s[i] = s[i], s[left]  # Revert the swap\n",
    "\n",
    "# Example usage\n",
    "str = \"abc\"\n",
    "permute(list(str), 0, len(str) - 1)\n"
   ]
  },
  {
   "cell_type": "code",
   "execution_count": 9,
   "id": "b0f07b33",
   "metadata": {},
   "outputs": [
    {
     "name": "stdout",
     "output_type": "stream",
     "text": [
      "7\n"
     ]
    }
   ],
   "source": [
    "# Question 8\n",
    "\n",
    "# Given a string, count total number of consonants in it. A consonant is an English alphabet character that is not vowel (a, e, i, o and u). Examples of constants are b, c, d, f, and g\n",
    "\n",
    "def count_consonants(string):\n",
    "    consonants = \"bcdfghjklmnpqrstvwxyzBCDFGHJKLMNPQRSTVWXYZ\"\n",
    "    count = 0\n",
    "    for char in string:\n",
    "        if char in consonants:\n",
    "            count += 1\n",
    "    return count\n",
    "\n",
    "# Example usage\n",
    "string = \"Hello World\"\n",
    "consonant_count = count_consonants(string)\n",
    "print(consonant_count)\n",
    "\n",
    "\n"
   ]
  },
  {
   "cell_type": "markdown",
   "id": "55900d76",
   "metadata": {},
   "source": [
    "Completed..!!"
   ]
  }
 ],
 "metadata": {
  "kernelspec": {
   "display_name": "Python 3 (ipykernel)",
   "language": "python",
   "name": "python3"
  },
  "language_info": {
   "codemirror_mode": {
    "name": "ipython",
    "version": 3
   },
   "file_extension": ".py",
   "mimetype": "text/x-python",
   "name": "python",
   "nbconvert_exporter": "python",
   "pygments_lexer": "ipython3",
   "version": "3.10.9"
  }
 },
 "nbformat": 4,
 "nbformat_minor": 5
}
